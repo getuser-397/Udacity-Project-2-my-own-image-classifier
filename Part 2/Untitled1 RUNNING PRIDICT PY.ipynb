{
 "cells": [
  {
   "cell_type": "code",
   "execution_count": null,
   "id": "08242a7b",
   "metadata": {},
   "outputs": [
    {
     "name": "stdout",
     "output_type": "stream",
     "text": [
      "Downloading: \"https://download.pytorch.org/models/vgg16-397923af.pth\" to /home/student/.cache/torch/hub/checkpoints/vgg16-397923af.pth\n",
      "100%|████████████████████████████████████████| 528M/528M [00:15<00:00, 36.0MB/s]\n",
      "Successfully Loaded Model\n",
      "Figure(640x480)\n"
     ]
    }
   ],
   "source": [
    "!python predict.py /workspace/cd0673/43ef1733-cf74-40a9-8c22-b6e440128200/image-classifier-part-1-workspace/home/aipnd-project/flowers/test/1/image_06752.jpg /workspace/cd0673/43ef1733-cf74-40a9-8c22-b6e440128200/image-classifier-part-2-workspace/checkpoints_dir/checkpointpart2.pth --top_k 5 --category_names /workspace/cd0673/43ef1733-cf74-40a9-8c22-b6e440128200/image-classifier-part-2-workspace/cat_to_name.json\n",
    "\n"
   ]
  },
  {
   "cell_type": "code",
   "execution_count": null,
   "id": "507c7afa",
   "metadata": {},
   "outputs": [],
   "source": []
  }
 ],
 "metadata": {
  "kernelspec": {
   "display_name": "Python 3 (ipykernel)",
   "language": "python",
   "name": "python3"
  },
  "language_info": {
   "codemirror_mode": {
    "name": "ipython",
    "version": 3
   },
   "file_extension": ".py",
   "mimetype": "text/x-python",
   "name": "python",
   "nbconvert_exporter": "python",
   "pygments_lexer": "ipython3",
   "version": "3.10.11"
  }
 },
 "nbformat": 4,
 "nbformat_minor": 5
}
